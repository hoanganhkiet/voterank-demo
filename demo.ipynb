{
 "cells": [
  {
   "cell_type": "code",
   "execution_count": 39,
   "metadata": {},
   "outputs": [],
   "source": [
    "import numpy as np\n",
    "import pandas as pd\n",
    "import matplotlib.pyplot as plt\n",
    "import networkx as nx\n",
    "import ndlib.models.ModelConfig as mc\n",
    "import ndlib.models.epidemics as ep\n",
    "\n",
    "SPR_COUNT = 10"
   ]
  },
  {
   "cell_type": "code",
   "execution_count": 40,
   "metadata": {},
   "outputs": [],
   "source": [
    "data = pd.read_csv('twitch_data/PTBR/musae_PTBR_edges.csv')"
   ]
  },
  {
   "cell_type": "code",
   "execution_count": 41,
   "metadata": {},
   "outputs": [
    {
     "data": {
      "text/plain": [
       "1912"
      ]
     },
     "execution_count": 41,
     "metadata": {},
     "output_type": "execute_result"
    }
   ],
   "source": [
    "graph = nx.convert_matrix.from_pandas_edgelist(data, 'from', 'to')\n",
    "len(graph.nodes)"
   ]
  },
  {
   "cell_type": "code",
   "execution_count": 42,
   "metadata": {},
   "outputs": [],
   "source": [
    "#b_dict = nx.betweenness_centrality(graph)\n",
    "#sprs_bet = sorted(b_dict, key=b_dict.get)[-SPR_COUNT:]\n",
    "#sprs_bet"
   ]
  },
  {
   "cell_type": "code",
   "execution_count": 43,
   "metadata": {},
   "outputs": [
    {
     "data": {
      "text/plain": [
       "[428, 287, 1259, 1660, 67, 467, 290, 1297, 1476, 127]"
      ]
     },
     "execution_count": 43,
     "metadata": {},
     "output_type": "execute_result"
    }
   ],
   "source": [
    "sprs_bet = [428, 287, 1259, 1660, 67, 467, 290, 1297, 1476, 127]\n",
    "sprs_bet"
   ]
  },
  {
   "cell_type": "code",
   "execution_count": 44,
   "metadata": {},
   "outputs": [],
   "source": [
    "#c_dict = nx.closeness_centrality(graph)\n",
    "#sprs_closeness = sorted(c_dict, key=c_dict.get)[-SPR_COUNT:]\n",
    "#sprs_closeness"
   ]
  },
  {
   "cell_type": "code",
   "execution_count": 45,
   "metadata": {},
   "outputs": [
    {
     "data": {
      "text/plain": [
       "[287, 1259, 1593, 1660, 67, 1476, 290, 467, 1297, 127]"
      ]
     },
     "execution_count": 45,
     "metadata": {},
     "output_type": "execute_result"
    }
   ],
   "source": [
    "sprs_closeness = [287, 1259, 1593, 1660, 67, 1476, 290, 467, 1297, 127]\n",
    "sprs_closeness"
   ]
  },
  {
   "cell_type": "code",
   "execution_count": 46,
   "metadata": {},
   "outputs": [
    {
     "data": {
      "text/plain": [
       "[127, 1476, 290, 1297, 467, 1660, 67, 1320, 1758, 1259]"
      ]
     },
     "execution_count": 46,
     "metadata": {},
     "output_type": "execute_result"
    }
   ],
   "source": [
    "sprs_voterank = nx.voterank(graph, number_of_nodes=SPR_COUNT)\n",
    "sprs_voterank"
   ]
  },
  {
   "cell_type": "code",
   "execution_count": 47,
   "metadata": {},
   "outputs": [],
   "source": [
    "vr_model = ep.SIRModel(graph)\n",
    "vr_cfg = mc.Configuration()"
   ]
  },
  {
   "cell_type": "code",
   "execution_count": 48,
   "metadata": {},
   "outputs": [
    {
     "name": "stderr",
     "output_type": "stream",
     "text": [
      "100%|███████████████████████████████████████| 100/100 [00:00<00:00, 108.50it/s]\n"
     ]
    }
   ],
   "source": [
    "vr_cfg.add_model_parameter('beta', 0.75)\n",
    "vr_cfg.add_model_parameter('gamma', 0.5)\n",
    "vr_cfg.add_model_initial_configuration('Infected', sprs_voterank)\n",
    "vr_model.set_initial_status(vr_cfg)\n",
    "vr_iters = vr_model.iteration_bunch(100)"
   ]
  },
  {
   "cell_type": "code",
   "execution_count": 49,
   "metadata": {},
   "outputs": [],
   "source": [
    "c_model = ep.SIRModel(graph)\n",
    "c_cfg = mc.Configuration()"
   ]
  },
  {
   "cell_type": "code",
   "execution_count": 50,
   "metadata": {},
   "outputs": [
    {
     "name": "stderr",
     "output_type": "stream",
     "text": [
      "100%|███████████████████████████████████████| 100/100 [00:00<00:00, 108.50it/s]\n"
     ]
    }
   ],
   "source": [
    "c_cfg.add_model_parameter('beta', 0.3)\n",
    "c_cfg.add_model_parameter('gamma', 0.5)\n",
    "c_cfg.add_model_initial_configuration('Infected', sprs_closeness)\n",
    "c_model.set_initial_status(c_cfg)\n",
    "c_iters = c_model.iteration_bunch(100)"
   ]
  },
  {
   "cell_type": "code",
   "execution_count": 51,
   "metadata": {},
   "outputs": [],
   "source": [
    "b_model = ep.SIRModel(graph)\n",
    "b_cfg = mc.Configuration()"
   ]
  },
  {
   "cell_type": "code",
   "execution_count": 52,
   "metadata": {},
   "outputs": [
    {
     "name": "stderr",
     "output_type": "stream",
     "text": [
      "100%|███████████████████████████████████████| 100/100 [00:00<00:00, 106.69it/s]\n"
     ]
    }
   ],
   "source": [
    "b_cfg.add_model_parameter('beta', 0.3)\n",
    "b_cfg.add_model_parameter('gamma', 0.5)\n",
    "b_cfg.add_model_initial_configuration('Infected', sprs_bet)\n",
    "b_model.set_initial_status(b_cfg)\n",
    "b_iters = b_model.iteration_bunch(100)"
   ]
  },
  {
   "cell_type": "code",
   "execution_count": 53,
   "metadata": {},
   "outputs": [],
   "source": [
    "def get_score(iters, index):\n",
    "    i = iters[index]\n",
    "    s_count = i['node_count'][0]\n",
    "    i_count = i['node_count'][1]\n",
    "    r_count = i['node_count'][2]\n",
    "    s = s_count + i_count + r_count\n",
    "    return (i_count + r_count) / s"
   ]
  },
  {
   "cell_type": "code",
   "execution_count": 54,
   "metadata": {},
   "outputs": [],
   "source": [
    "scores = pd.DataFrame(data={'t': np.arange(100)})"
   ]
  },
  {
   "cell_type": "code",
   "execution_count": 55,
   "metadata": {},
   "outputs": [],
   "source": [
    "scores['voterank'] = [get_score(vr_iters, t) for t in scores['t']]\n",
    "scores['closeness'] = [get_score(c_iters, t) for t in scores['t']]\n",
    "scores['betweenness'] = [get_score(b_iters, t) for t in scores['t']]"
   ]
  },
  {
   "cell_type": "code",
   "execution_count": 56,
   "metadata": {},
   "outputs": [
    {
     "data": {
      "text/html": [
       "<div>\n",
       "<style scoped>\n",
       "    .dataframe tbody tr th:only-of-type {\n",
       "        vertical-align: middle;\n",
       "    }\n",
       "\n",
       "    .dataframe tbody tr th {\n",
       "        vertical-align: top;\n",
       "    }\n",
       "\n",
       "    .dataframe thead th {\n",
       "        text-align: right;\n",
       "    }\n",
       "</style>\n",
       "<table border=\"1\" class=\"dataframe\">\n",
       "  <thead>\n",
       "    <tr style=\"text-align: right;\">\n",
       "      <th></th>\n",
       "      <th>t</th>\n",
       "      <th>voterank</th>\n",
       "      <th>closeness</th>\n",
       "      <th>betweenness</th>\n",
       "    </tr>\n",
       "  </thead>\n",
       "  <tbody>\n",
       "    <tr>\n",
       "      <th>0</th>\n",
       "      <td>0</td>\n",
       "      <td>0.005230</td>\n",
       "      <td>0.005230</td>\n",
       "      <td>0.005230</td>\n",
       "    </tr>\n",
       "    <tr>\n",
       "      <th>1</th>\n",
       "      <td>1</td>\n",
       "      <td>0.641736</td>\n",
       "      <td>0.455544</td>\n",
       "      <td>0.460251</td>\n",
       "    </tr>\n",
       "    <tr>\n",
       "      <th>2</th>\n",
       "      <td>2</td>\n",
       "      <td>0.947176</td>\n",
       "      <td>0.842573</td>\n",
       "      <td>0.829498</td>\n",
       "    </tr>\n",
       "    <tr>\n",
       "      <th>3</th>\n",
       "      <td>3</td>\n",
       "      <td>0.986402</td>\n",
       "      <td>0.918410</td>\n",
       "      <td>0.918410</td>\n",
       "    </tr>\n",
       "    <tr>\n",
       "      <th>4</th>\n",
       "      <td>4</td>\n",
       "      <td>0.988494</td>\n",
       "      <td>0.934100</td>\n",
       "      <td>0.934100</td>\n",
       "    </tr>\n",
       "    <tr>\n",
       "      <th>5</th>\n",
       "      <td>5</td>\n",
       "      <td>0.989017</td>\n",
       "      <td>0.937762</td>\n",
       "      <td>0.936192</td>\n",
       "    </tr>\n",
       "    <tr>\n",
       "      <th>6</th>\n",
       "      <td>6</td>\n",
       "      <td>0.989017</td>\n",
       "      <td>0.941946</td>\n",
       "      <td>0.937238</td>\n",
       "    </tr>\n",
       "    <tr>\n",
       "      <th>7</th>\n",
       "      <td>7</td>\n",
       "      <td>0.989017</td>\n",
       "      <td>0.942992</td>\n",
       "      <td>0.937762</td>\n",
       "    </tr>\n",
       "    <tr>\n",
       "      <th>8</th>\n",
       "      <td>8</td>\n",
       "      <td>0.989017</td>\n",
       "      <td>0.943515</td>\n",
       "      <td>0.937762</td>\n",
       "    </tr>\n",
       "    <tr>\n",
       "      <th>9</th>\n",
       "      <td>9</td>\n",
       "      <td>0.989017</td>\n",
       "      <td>0.943515</td>\n",
       "      <td>0.938808</td>\n",
       "    </tr>\n",
       "  </tbody>\n",
       "</table>\n",
       "</div>"
      ],
      "text/plain": [
       "   t  voterank  closeness  betweenness\n",
       "0  0  0.005230   0.005230     0.005230\n",
       "1  1  0.641736   0.455544     0.460251\n",
       "2  2  0.947176   0.842573     0.829498\n",
       "3  3  0.986402   0.918410     0.918410\n",
       "4  4  0.988494   0.934100     0.934100\n",
       "5  5  0.989017   0.937762     0.936192\n",
       "6  6  0.989017   0.941946     0.937238\n",
       "7  7  0.989017   0.942992     0.937762\n",
       "8  8  0.989017   0.943515     0.937762\n",
       "9  9  0.989017   0.943515     0.938808"
      ]
     },
     "execution_count": 56,
     "metadata": {},
     "output_type": "execute_result"
    }
   ],
   "source": [
    "scores.head(10)"
   ]
  },
  {
   "cell_type": "code",
   "execution_count": 72,
   "metadata": {},
   "outputs": [
    {
     "data": {
      "image/png": "[encoded data removed]",
      "text/plain": [
       "<Figure size 1440x720 with 1 Axes>"
      ]
     },
     "metadata": {
      "needs_background": "light"
     },
     "output_type": "display_data"
    }
   ],
   "source": [
    "plt.figure(figsize=(20, 10))\n",
    "plt.xlabel('t')\n",
    "plt.ylabel('F(t)')\n",
    "plt.plot(scores['t'], scores['voterank'], '-b', label='VoteRank')\n",
    "plt.plot(scores['t'], scores['closeness'], '-g', label='Closeness')\n",
    "plt.plot(scores['t'], scores['betweenness'], '-r', label='Betweenness')\n",
    "plt.legend()\n",
    "plt.show()"
   ]
  },
  {
   "cell_type": "code",
   "execution_count": null,
   "metadata": {},
   "outputs": [],
   "source": []
  }
 ],
 "metadata": {
  "kernelspec": {
   "display_name": "Python 3",
   "language": "python",
   "name": "python3"
  },
  "language_info": {
   "codemirror_mode": {
    "name": "ipython",
    "version": 3
   },
   "file_extension": ".py",
   "mimetype": "text/x-python",
   "name": "python",
   "nbconvert_exporter": "python",
   "pygments_lexer": "ipython3",
   "version": "3.8.2"
  }
 },
 "nbformat": 4,
 "nbformat_minor": 4
}
